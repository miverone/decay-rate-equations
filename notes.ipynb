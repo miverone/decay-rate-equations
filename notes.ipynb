{
 "cells": [
  {
   "cell_type": "code",
   "execution_count": 1,
   "metadata": {},
   "outputs": [
    {
     "data": {
      "text/html": [
       "<style>.container { width:100% !important; }</style>"
      ],
      "text/plain": [
       "<IPython.core.display.HTML object>"
      ]
     },
     "metadata": {},
     "output_type": "display_data"
    }
   ],
   "source": [
    "from IPython.display import display\n",
    "from IPython.core.display import display, HTML\n",
    "display(HTML(\"<style>.container { width:100% !important; }</style>\"))\n",
    "from declare_widgets import wbox_dec, decrate_pars\n",
    "from declare_widgets import wbox_acc, acc_pars\n",
    "from declare_widgets import wbox_res, res_pars\n",
    "from declare_widgets import wbox_tag, tag_pars\n",
    "from declare_widgets import wbox_asymm, asymm_pars"
   ]
  },
  {
   "cell_type": "markdown",
   "metadata": {},
   "source": [
    "# Decay Rate Equations\n",
    "\n",
    "Using the definitions for the mixing frequency $\\Delta m_s=M_{H}-M_{L} $, decay widths difference $\\Delta \\Gamma_{s}=\\Gamma_{L}-\\Gamma_{H}>0$ and average decay width $\\Gamma_{s}=(\\Gamma_{L}+\\Gamma_{H})/2$, the decay rate equations have the following expression:\n",
    "\n",
    "\\begin{align*}\n",
    "\\frac{d\\Gamma}{dt} (B_s^0\\to f) & \\sim e^{-\\Gamma_s t} \\Bigg[\n",
    "\\cosh\\Bigg(\\frac{\\Delta\\Gamma_s t}{2}\\Bigg) + D_f\\sinh\\Bigg(\\frac{\\Delta\\Gamma_s t}{2}\\Bigg)\n",
    "+C_f\\cos(\\Delta m_s t) - S_f \\sin(\\Delta m_s t) \\Bigg] \\\\\n",
    "\\frac{d\\Gamma}{dt} (\\overline{B}_s^0\\to f) & \\sim e^{-\\Gamma_s t} \\Bigg[\n",
    "\\cosh\\Bigg(\\frac{\\Delta\\Gamma_s t}{2}\\Bigg) + D_f\\sinh\\Bigg(\\frac{\\Delta\\Gamma_s t}{2}\\Bigg)\n",
    "-C_f\\cos(\\Delta m_s t) + S_f \\sin(\\Delta m_s t) \\Bigg] \\\\\n",
    "\\frac{d\\Gamma}{dt} (B_s^0\\to \\overline{f}) & \\sim e^{-\\Gamma_s t} \\Bigg[\n",
    "\\cosh\\Bigg(\\frac{\\Delta\\Gamma_s t}{2}\\Bigg) + D_{\\overline{f}}\\sinh\\Bigg(\\frac{\\Delta\\Gamma_s t}{2}\\Bigg)\n",
    "+C_{\\overline{f}}\\cos(\\Delta m_s t) - S_{\\overline{f}} \\sin(\\Delta m_s t) \\Bigg] \\\\\n",
    "\\frac{d\\Gamma}{dt} (\\overline{B}_s^0\\to \\overline{f}) & \\sim e^{-\\Gamma_s t} \\Bigg[\n",
    "\\cosh\\Bigg(\\frac{\\Delta\\Gamma_s t}{2}\\Bigg) + D_{\\overline{f}}\\sinh\\Bigg(\\frac{\\Delta\\Gamma_s t}{2}\\Bigg)\n",
    "-C_{\\overline{f}}\\cos(\\Delta m_s t) + S_{\\overline{f}} \\sin(\\Delta m_s t) \\Bigg]\n",
    "\\end{align*}\n",
    "\n",
    "where the decay rate coefficients are defined as:\n",
    "\n",
    "\\begin{align}\n",
    "C_f & = \\frac{1-r_{D_sK}^2}{1+r_{D_sK}^2} = -C_{\\overline{f}}, \\\\\n",
    "S_f & = \\frac{2r_{D_sK}\\sin(\\delta -(\\gamma-2\\beta_s))}{1+r_{D_sK}^2}, \\qquad\n",
    "S_{\\overline{f}} = \\frac{-2r_{D_sK}\\sin(\\delta +(\\gamma-2\\beta_s))}{1+r_{D_sK}^2}, \\\\\n",
    "D_f & = \\frac{-2r_{D_sK}\\cos(\\delta -(\\gamma-2\\beta_s))}{1+r_{D_sK}^2}, \\qquad\n",
    "D_{\\overline{f}} = \\frac{-2r_{D_sK}\\cos(\\delta +(\\gamma-2\\beta_s))}{1+r_{D_sK}^2}\n",
    "\\end{align}\n",
    "\n",
    "where $r  = |\\overline{A}_{f} / A_{f}| = |A_{\\overline{f}}/\\overline{A}_{\\overline{f}}|$ is the amplitude ratio between the suppressed and the favourite decay modes, $\\delta$  and $\\gamma$ are the strong and weak phase differences between the suppressed and the favourite decay amplitudes and $\\beta_{s}$ is the weak phase from $B^0_s-\\overline{B}^0_s$ mixing. The mixing asymmetries are defined as:\n",
    "\n",
    "\\begin{align*}\n",
    "A_{\\text{mix},\\, f} (t) & =\n",
    "\\frac{\n",
    "\\frac{d\\Gamma}{dt}(B^0_s\\to f) - \\frac{d\\Gamma}{dt}(\\overline{B}^0_s\\to f)}{\n",
    "\\frac{d\\Gamma}{dt}(B^0_s\\to f) + \\frac{d\\Gamma}{dt}(\\overline{B}^0_s\\to f)} \n",
    "= \\frac{C_{f}\\cos(\\Delta m_s t)-S_{f}\\sin(\\Delta m_s t)}{\n",
    "\\cosh(\\frac{\\Delta\\Gamma_s t}{2})+D_f\\sinh(\\frac{\\Delta\\Gamma_s t}{2})} \\\\\n",
    "A_{\\text{mix},\\, \\overline{f}} (t) & =\n",
    "\\frac{\n",
    "\\frac{d\\Gamma}{dt}(\\overline{B}^0_s\\to \\overline{f}) - \\frac{d\\Gamma}{dt}(B^0_s\\to \\overline{f})}{\n",
    "\\frac{d\\Gamma}{dt}(\\overline{B}^0_s\\to \\overline{f}) + \\frac{d\\Gamma}{dt}(B^0_s\\to \\overline{f})} \n",
    "= \\frac{-C_{\\overline{f}}\\cos(\\Delta m_s t)+S_{\\overline{f}}\\sin(\\Delta m_s t)}{\n",
    "\\cosh(\\frac{\\Delta\\Gamma_s t}{2})+D_{\\overline{f}}\\sinh(\\frac{\\Delta\\Gamma_s t}{2})}\n",
    "\\end{align*}"
   ]
  },
  {
   "cell_type": "code",
   "execution_count": 2,
   "metadata": {
    "scrolled": false
   },
   "outputs": [
    {
     "data": {
      "application/vnd.jupyter.widget-view+json": {
       "model_id": "57f95cee578d43f793ed8725d6f95e30",
       "version_major": 2,
       "version_minor": 0
      },
      "text/plain": [
       "HBox(children=(VBox(children=(BoundedFloatText(value=17.757, description='$\\\\Delta m_{s}$ [ps$^{-1}$]', max=20…"
      ]
     },
     "metadata": {},
     "output_type": "display_data"
    },
    {
     "data": {
      "application/vnd.jupyter.widget-view+json": {
       "model_id": "cb7d43f3267f4a8095c4116110d35a7d",
       "version_major": 2,
       "version_minor": 0
      },
      "text/plain": [
       "Output()"
      ]
     },
     "metadata": {},
     "output_type": "display_data"
    }
   ],
   "source": [
    "display(wbox_dec,decrate_pars)"
   ]
  },
  {
   "cell_type": "markdown",
   "metadata": {},
   "source": [
    "# Decay Time Acceptance\n",
    "\n",
    "The time dependent reconstruction efficiency is parametrized as:\n",
    "\n",
    "\\begin{equation}\n",
    "\\varepsilon(t) = \\left[ 1 - \\frac{1}{1+(at)^n-b}\\right](1-\\beta t)\n",
    "\\end{equation}\n",
    "\n",
    "for decay times $t>t_{cut}$ and $t>(at)^n-b$, where $t_{cut}$ is the minimum lifetime required to discard prompt decays, $a$, $n$ and $b$ parametrize the shape of the turn-on curve at low decay times, while $\\beta$ parametrizes the slope of the acceptance shape at high decay times, in order to model the inefficiencies due to the $r$-$\\phi$ geometry of the velo."
   ]
  },
  {
   "cell_type": "code",
   "execution_count": 3,
   "metadata": {
    "scrolled": false
   },
   "outputs": [
    {
     "data": {
      "application/vnd.jupyter.widget-view+json": {
       "model_id": "a0500166eb58402cb566bf4b59013890",
       "version_major": 2,
       "version_minor": 0
      },
      "text/plain": [
       "HBox(children=(VBox(children=(BoundedFloatText(value=1.5, description='$a$', step=0.01), BoundedFloatText(valu…"
      ]
     },
     "metadata": {},
     "output_type": "display_data"
    },
    {
     "data": {
      "application/vnd.jupyter.widget-view+json": {
       "model_id": "8136a73aa4374461b23979b4ba01264c",
       "version_major": 2,
       "version_minor": 0
      },
      "text/plain": [
       "Output()"
      ]
     },
     "metadata": {},
     "output_type": "display_data"
    }
   ],
   "source": [
    "display(wbox_acc,acc_pars)"
   ]
  },
  {
   "cell_type": "markdown",
   "metadata": {},
   "source": [
    "# Decay Time Resolution\n",
    "\n",
    "The effect of the finite detector resolution $G(t)$ on the measured lifetime distribution $P^{obs}(t)$ is a convolution with the true distribution $P^{true}(t)$:\n",
    "\\begin{equation}\n",
    "P^{obs}(t^{obs}) = (P^{true}\\otimes G)(t^{obs})=  \\int_{0}^{+\\infty}P^{true}(t^{true})G(t^{obs}-t^{true};\\sigma_t)dt^{true}\n",
    "\\end{equation}\n",
    "For a gaussian resolution function $G(t;\\sigma_t)$, the effect on the coefficients $C_f$ and $S_f$ in front of the $\\sin(\\Delta m_st)$ and $\\cos(\\Delta m_st)$ terms in the decay rate equations, and therefore on the mixing asymmetries, is a dilution of a factor $\\mathcal{D}=\\exp(-\\sigma_t^2\\Delta m_s^2/2)$."
   ]
  },
  {
   "cell_type": "code",
   "execution_count": 4,
   "metadata": {},
   "outputs": [
    {
     "data": {
      "application/vnd.jupyter.widget-view+json": {
       "model_id": "f8e93e9d54774af9bf5c53fec37c5119",
       "version_major": 2,
       "version_minor": 0
      },
      "text/plain": [
       "HBox(children=(VBox(children=(BoundedFloatText(value=0.045, description='$\\\\sigma_{t}$ [ps]', max=1.0, step=0.…"
      ]
     },
     "metadata": {},
     "output_type": "display_data"
    },
    {
     "data": {
      "application/vnd.jupyter.widget-view+json": {
       "model_id": "b8cfed82471a4c9e8840bcd292cee59b",
       "version_major": 2,
       "version_minor": 0
      },
      "text/plain": [
       "Output()"
      ]
     },
     "metadata": {},
     "output_type": "display_data"
    }
   ],
   "source": [
    "display(wbox_res,res_pars)"
   ]
  },
  {
   "cell_type": "markdown",
   "metadata": {},
   "source": [
    "# Flavour Tagging\n",
    "\n",
    "The effect of a misidentification (or \"wrong tag\") of the $B^0_s$ flavour at production on the observed decay rates is:\n",
    "\n",
    "\\begin{align}\n",
    "\\frac{d\\Gamma}{dt} (B_s^0\\to f)^{obs}  & = \\varepsilon_{tag,B^{0}} \\big\\{\n",
    "(1-\\omega_{tag,B^{0}})\\frac{d\\Gamma}{dt} (B_s^0\\to f)^{true}\n",
    "+ \\omega_{tag,\\overline{B}^{0}}\\,\\frac{d\\Gamma}{dt} (\\overline{B}_s^0\\to f)^{true} \\big\\} \\\\\n",
    "\\frac{d\\Gamma}{dt} (\\overline{B}_s^0\\to f)^{obs} & = \\varepsilon_{tag,\\overline{B}^{0}} \\big\\{\n",
    "(1- \\omega_{tag,\\overline{B}^{0}})\\frac{d\\Gamma}{dt} (\\overline{B}_s^0\\to f)^{true}\n",
    "+ \\omega_{tag,B^{0}} \\, \\frac{d\\Gamma}{dt} (B_s^0\\to f)^{true} \\big\\} \\\\\n",
    "\\frac{d\\Gamma}{dt} (B_s^0\\to \\overline{f})^{obs}  & = \\varepsilon_{tag,B^{0}} \\big\\{\n",
    "(1-\\omega_{tag,B^{0}})\\frac{d\\Gamma}{dt} (B_s^0\\to \\overline{f})^{true}\n",
    "+ \\omega_{tag,\\overline{B}^{0}}\\,\\frac{d\\Gamma}{dt} (\\overline{B}_s^0\\to \\overline{f})^{true} \\big\\} \\\\\n",
    "\\frac{d\\Gamma}{dt} (\\overline{B}_s^0\\to \\overline{f})^{obs} & = \\varepsilon_{tag,\\overline{B}^{0}} \\big\\{\n",
    "(1- \\omega_{tag,\\overline{B}^{0}})\\frac{d\\Gamma}{dt} (\\overline{B}_s^0\\to \\overline{f})^{true}\n",
    "+ \\omega_{tag,B^{0}} \\, \\frac{d\\Gamma}{dt} (B_s^0\\to \\overline{f})^{true} \\big\\} \\\\\n",
    "\\frac{d\\Gamma}{dt} (Untagged\\to f)^{obs} & = \\big\\{ (1-\\varepsilon_{tag,B^{0}})\\frac{d\\Gamma}{dt} (B_s^0\\to f)^{true}\n",
    "+ (1-\\varepsilon_{tag,\\overline{B}^{0}})\\frac{d\\Gamma}{dt} (\\overline{B}_s^0\\to f)^{true} \\big\\} \\\\\n",
    "\\frac{d\\Gamma}{dt} (Untagged\\to \\overline{f})^{obs} & = \\big\\{ (1-\\varepsilon_{tag,B^{0}})\\frac{d\\Gamma}{dt} (B_s^0\\to \\overline{f})^{true}\n",
    "+ (1-\\varepsilon_{tag,\\overline{B}^{0}})\\frac{d\\Gamma}{dt} (\\overline{B}_s^0\\to \\overline{f})^{true} \\big\\}\n",
    "\\end{align}\n",
    "\n",
    "where the tagging efficiencies and mistag probabilities for $B^0_s$ and $\\overline{B}^0_s$ are defined as\n",
    "\n",
    "\\begin{align}\n",
    "\\varepsilon_{tag,B^0} & = \\varepsilon_{tag}+\\frac{\\Delta\\varepsilon}{2}, \\qquad\n",
    "\\omega_{tag,B^0} = \\omega_{tag}+\\frac{\\Delta\\omega}{2} \\\\\n",
    "\\varepsilon_{tag,\\overline{B}^0} & = \\varepsilon_{tag}-\\frac{\\Delta\\varepsilon}{2}, \\qquad\n",
    "\\omega_{tag,\\overline{B}^0} = \\omega_{tag}-\\frac{\\Delta\\omega}{2}\n",
    "\\end{align}\n",
    "\n",
    "and $\\varepsilon_{tag}$ and $\\omega_{tag}$ are the average tagging efficiencies and mistag probabilities, while $\\Delta \\varepsilon_{tag}$ and $\\Delta\\omega_{tag}$ are the tagging efficiency and mistag asymmetries. The effect on the mixing asymmetries is a dilution of a factor $\\mathcal{D}=(1-2\\omega)$ and a vertical shift of $2\\Delta \\omega$ between the mixing asymmetry for the $f$ and $\\overline{f}$ final states."
   ]
  },
  {
   "cell_type": "code",
   "execution_count": 5,
   "metadata": {
    "scrolled": false
   },
   "outputs": [
    {
     "data": {
      "application/vnd.jupyter.widget-view+json": {
       "model_id": "da893c88ba0f402fa765f4c846a72d3f",
       "version_major": 2,
       "version_minor": 0
      },
      "text/plain": [
       "HBox(children=(VBox(children=(BoundedFloatText(value=0.35, description='$\\\\omega_{tag}$', max=0.5, step=0.01),…"
      ]
     },
     "metadata": {},
     "output_type": "display_data"
    },
    {
     "data": {
      "application/vnd.jupyter.widget-view+json": {
       "model_id": "cfc2b4d93d9b468685a5e3661b06de19",
       "version_major": 2,
       "version_minor": 0
      },
      "text/plain": [
       "Output()"
      ]
     },
     "metadata": {},
     "output_type": "display_data"
    }
   ],
   "source": [
    "display(wbox_tag,tag_pars)"
   ]
  },
  {
   "cell_type": "markdown",
   "metadata": {},
   "source": [
    "# Production and Detection Asymmetries\n",
    "\n",
    "The production and detection asymmetries are defined as:\n",
    "\n",
    "\\begin{equation}\n",
    "a_{\\text{prod}} = \\frac{\\sigma_{prod}(B^0_s)-\\sigma_{prod}(\\overline{B}^0_s)}{\\sigma_{prod}(B^0_s)+\\sigma_{prod}(\\overline{B}^0_s)}, \\qquad\n",
    "a_{\\text{det}} = \\frac{\\varepsilon_{det}(f)-\\varepsilon_{det}(\\overline{f})}{\\varepsilon_{det}(f)+\\varepsilon_{det}(\\overline{f})}\n",
    "\\end{equation}\n",
    "\n",
    "where $\\sigma_{prod}$ is the production cross section and $\\varepsilon_{det}$ is the detection efficiency due to the underlying nuclear interaction cross section with the detector material. The full expressions for the observed decay rates therefore become:\n",
    "\n",
    "\\begin{align}\n",
    "\\frac{d\\Gamma}{dt} (B_s^0\\to f)^{obs} & = \\varepsilon_{tag,B^{0}} \\big\\{\n",
    "(1-  \\omega_{tag,B^{0}}) (1+a_{prod})(1+a_{det})\\frac{d\\Gamma}{dt} (B_s^0\\to f)^{true}\n",
    "+ \\omega_{tag,\\overline{B}^{0}} (1-a_{prod})(1+a_{det})\\frac{d\\Gamma}{dt} (\\overline{B}_s^0\\to f)^{true} \\big\\} \\\\\n",
    "\\frac{d\\Gamma}{dt} (\\overline{B}_s^0\\to f)^{obs} & = \\varepsilon_{tag,\\overline{B}^{0}} \\big\\{\n",
    "(1- \\omega_{tag,\\overline{B}^{0}}) (1-a_{prod})(1+a_{det})\\frac{d\\Gamma}{dt} (\\overline{B}_s^0\\to f)^{true}\n",
    "+ \\omega_{tag,B^{0}} (1+a_{prod})(1+a_{det})\\frac{d\\Gamma}{dt} (B_s^0\\to f)^{true}\\big\\} \\\\\n",
    "\\frac{d\\Gamma}{dt} (B_s^0\\to \\overline{f})^{obs} & = \\varepsilon_{tag,B^{0}} \\big\\{\n",
    "(1- \\omega_{tag,B^{0}}) (1+a_{prod})(1-a_{det})\\frac{d\\Gamma}{dt} (B_s^0\\to \\overline{f})^{true} \n",
    "+ \\omega_{tag,\\overline{B}^{0}} (1-a_{prod})(1-a_{det})\\frac{d\\Gamma}{dt} (\\overline{B}_s^0\\to \\overline{f})^{true} \\big\\} \\\\\n",
    "\\frac{d\\Gamma}{dt} (\\overline{B}_s^0\\to \\overline{f})^{obs} & = \\varepsilon_{tag,\\overline{B}^{0}} \\big\\{\n",
    "(1-\\omega_{tag,\\overline{B}^{0}}) (1-a_{prod})(1-a_{det})\\frac{d\\Gamma}{dt} (\\overline{B}_s^0\\to \\overline{f})^{true} \n",
    "+ \\omega_{tag,B^{0}}  (1+a_{prod})(1-a_{det})\\frac{d\\Gamma}{dt} (B_s^0\\to \\overline{f})^{true} \\big\\} \\\\\n",
    "\\frac{d\\Gamma}{dt} (Untagged \\to f)^{obs} & = \\big\\{ (1-\\varepsilon_{tag,B^{0}})(1+a_{prod})(1+a_{det})\\frac{d\\Gamma}{dt} (B_s^0\\to f)^{true} \n",
    "+ (1-\\varepsilon_{tag,\\overline{B}^{0}})(1-a_{prod})(1+a_{det})\\frac{d\\Gamma}{dt} (\\overline{B}_s^0\\to f)^{true} \\big\\} \\\\\n",
    "\\frac{d\\Gamma}{dt} (Untagged \\to \\overline{f})^{obs} & = \\big\\{ (1-\\varepsilon_{tag,B^{0}})(1+a_{prod})(1-a_{det})\\frac{d\\Gamma}{dt} (B_s^0\\to \\overline{f})^{true}\n",
    "+ (1-\\varepsilon_{tag,\\overline{B}^{0}})(1-a_{prod})(1-a_{det})\\frac{d\\Gamma}{dt} (\\overline{B}_s^0\\to \\overline{f})^{true} \\big\\}\n",
    "\\end{align}"
   ]
  },
  {
   "cell_type": "code",
   "execution_count": 6,
   "metadata": {},
   "outputs": [
    {
     "data": {
      "application/vnd.jupyter.widget-view+json": {
       "model_id": "7c7b0b743c8543688bcf7f41f71f2f98",
       "version_major": 2,
       "version_minor": 0
      },
      "text/plain": [
       "HBox(children=(VBox(children=(BoundedFloatText(value=0.0, description='$a_{prod}$', max=1.0, min=-1.0, step=0.…"
      ]
     },
     "metadata": {},
     "output_type": "display_data"
    },
    {
     "data": {
      "application/vnd.jupyter.widget-view+json": {
       "model_id": "c154d302154f459abc1c4840b10bb976",
       "version_major": 2,
       "version_minor": 0
      },
      "text/plain": [
       "Output()"
      ]
     },
     "metadata": {},
     "output_type": "display_data"
    }
   ],
   "source": [
    "display(wbox_asymm,asymm_pars)"
   ]
  },
  {
   "cell_type": "code",
   "execution_count": null,
   "metadata": {},
   "outputs": [],
   "source": []
  }
 ],
 "metadata": {
  "kernelspec": {
   "display_name": "Python 3",
   "language": "python",
   "name": "python3"
  },
  "language_info": {
   "codemirror_mode": {
    "name": "ipython",
    "version": 3
   },
   "file_extension": ".py",
   "mimetype": "text/x-python",
   "name": "python",
   "nbconvert_exporter": "python",
   "pygments_lexer": "ipython3",
   "version": "3.7.6"
  }
 },
 "nbformat": 4,
 "nbformat_minor": 4
}
